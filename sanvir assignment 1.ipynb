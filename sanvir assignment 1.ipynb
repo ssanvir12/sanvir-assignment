{
 "cells": [
  {
   "cell_type": "code",
   "execution_count": 2,
   "id": "127ec16a",
   "metadata": {},
   "outputs": [],
   "source": [
    "s=\"this is my first python class and i am learning python string  and its functions\""
   ]
  },
  {
   "cell_type": "code",
   "execution_count": 3,
   "id": "5d158d98",
   "metadata": {},
   "outputs": [],
   "source": [
    "#try to extract data from index 1 to index 300 with the jump of 3"
   ]
  },
  {
   "cell_type": "code",
   "execution_count": 4,
   "id": "d69b9f7e",
   "metadata": {},
   "outputs": [
    {
     "data": {
      "text/plain": [
       "'h   r tnlsnimengyosi ni nis'"
      ]
     },
     "execution_count": 4,
     "metadata": {},
     "output_type": "execute_result"
    }
   ],
   "source": [
    "s[1:301:3]"
   ]
  },
  {
   "cell_type": "code",
   "execution_count": 5,
   "id": "415f009f",
   "metadata": {},
   "outputs": [
    {
     "data": {
      "text/plain": [
       "'snoitcnuf sti dna  gnirts nohtyp gninrael ma i dna ssalc nohtyp tsrif ym si siht'"
      ]
     },
     "execution_count": 5,
     "metadata": {},
     "output_type": "execute_result"
    }
   ],
   "source": [
    "s[::-1]"
   ]
  },
  {
   "cell_type": "code",
   "execution_count": 6,
   "id": "e8d30bfc",
   "metadata": {},
   "outputs": [],
   "source": [
    "s1=s.upper()"
   ]
  },
  {
   "cell_type": "code",
   "execution_count": 7,
   "id": "127aa5d1",
   "metadata": {},
   "outputs": [
    {
     "name": "stdout",
     "output_type": "stream",
     "text": [
      "THIS IS MY FIRST PYTHON CLASS AND I AM LEARNING PYTHON STRING  AND ITS FUNCTIONS\n"
     ]
    }
   ],
   "source": [
    "print (s1)"
   ]
  },
  {
   "cell_type": "code",
   "execution_count": 8,
   "id": "4bf5c77d",
   "metadata": {},
   "outputs": [
    {
     "data": {
      "text/plain": [
       "['THIS',\n",
       " 'IS',\n",
       " 'MY',\n",
       " 'FIRST',\n",
       " 'PYTHON',\n",
       " 'CLASS',\n",
       " 'AND',\n",
       " 'I',\n",
       " 'AM',\n",
       " 'LEARNING',\n",
       " 'PYTHON',\n",
       " 'STRING',\n",
       " 'AND',\n",
       " 'ITS',\n",
       " 'FUNCTIONS']"
      ]
     },
     "execution_count": 8,
     "metadata": {},
     "output_type": "execute_result"
    }
   ],
   "source": [
    "s1.split()"
   ]
  },
  {
   "cell_type": "code",
   "execution_count": 9,
   "id": "5c556684",
   "metadata": {},
   "outputs": [
    {
     "data": {
      "text/plain": [
       "'this is my first python class and i am learning python string  and its functions'"
      ]
     },
     "execution_count": 9,
     "metadata": {},
     "output_type": "execute_result"
    }
   ],
   "source": [
    "s.lower()"
   ]
  },
  {
   "cell_type": "code",
   "execution_count": 10,
   "id": "b93784a9",
   "metadata": {},
   "outputs": [
    {
     "data": {
      "text/plain": [
       "'This is my first python class and i am learning python string  and its functions'"
      ]
     },
     "execution_count": 10,
     "metadata": {},
     "output_type": "execute_result"
    }
   ],
   "source": [
    "s.capitalize()"
   ]
  },
  {
   "cell_type": "code",
   "execution_count": 11,
   "id": "9477b86a",
   "metadata": {},
   "outputs": [],
   "source": [
    "#isalnum() returns \"true\" if the string consists of alphabets, digits, or both and isalpha() is true only when the string consists of alphabets"
   ]
  },
  {
   "cell_type": "code",
   "execution_count": 12,
   "id": "060b1735",
   "metadata": {},
   "outputs": [],
   "source": [
    "#exaple of tab"
   ]
  },
  {
   "cell_type": "code",
   "execution_count": 15,
   "id": "f60b0303",
   "metadata": {},
   "outputs": [],
   "source": [
    "s=\"sanvir\\tsingh\\tineuron\""
   ]
  },
  {
   "cell_type": "code",
   "execution_count": 16,
   "id": "5987fcf1",
   "metadata": {},
   "outputs": [
    {
     "data": {
      "text/plain": [
       "'sanvir  singh   ineuron'"
      ]
     },
     "execution_count": 16,
     "metadata": {},
     "output_type": "execute_result"
    }
   ],
   "source": [
    "s.expandtabs()"
   ]
  },
  {
   "cell_type": "code",
   "execution_count": 17,
   "id": "bf335efd",
   "metadata": {},
   "outputs": [],
   "source": [
    "#example of strip(), lstrip() and rstrip()"
   ]
  },
  {
   "cell_type": "code",
   "execution_count": 18,
   "id": "7f83ded7",
   "metadata": {},
   "outputs": [],
   "source": [
    "s=\"  sanvir  \""
   ]
  },
  {
   "cell_type": "code",
   "execution_count": 19,
   "id": "ea1bff36",
   "metadata": {},
   "outputs": [
    {
     "data": {
      "text/plain": [
       "'sanvir'"
      ]
     },
     "execution_count": 19,
     "metadata": {},
     "output_type": "execute_result"
    }
   ],
   "source": [
    "s.strip()"
   ]
  },
  {
   "cell_type": "code",
   "execution_count": 20,
   "id": "34afd461",
   "metadata": {},
   "outputs": [
    {
     "data": {
      "text/plain": [
       "'sanvir  '"
      ]
     },
     "execution_count": 20,
     "metadata": {},
     "output_type": "execute_result"
    }
   ],
   "source": [
    "s.lstrip()"
   ]
  },
  {
   "cell_type": "code",
   "execution_count": 21,
   "id": "eedc17a9",
   "metadata": {},
   "outputs": [
    {
     "data": {
      "text/plain": [
       "'  sanvir'"
      ]
     },
     "execution_count": 21,
     "metadata": {},
     "output_type": "execute_result"
    }
   ],
   "source": [
    "s.rstrip()"
   ]
  },
  {
   "cell_type": "code",
   "execution_count": 22,
   "id": "f706cc50",
   "metadata": {},
   "outputs": [
    {
     "data": {
      "text/plain": [
       "'  sanvir  '"
      ]
     },
     "execution_count": 22,
     "metadata": {},
     "output_type": "execute_result"
    }
   ],
   "source": [
    "s"
   ]
  },
  {
   "cell_type": "code",
   "execution_count": 23,
   "id": "1b13ed52",
   "metadata": {},
   "outputs": [],
   "source": [
    "#replace a string character by another character"
   ]
  },
  {
   "cell_type": "code",
   "execution_count": 24,
   "id": "d056ec3c",
   "metadata": {},
   "outputs": [],
   "source": [
    "s=\" sanvir singh ineuron\""
   ]
  },
  {
   "cell_type": "code",
   "execution_count": 25,
   "id": "24ef234d",
   "metadata": {},
   "outputs": [
    {
     "data": {
      "text/plain": [
       "' sanv*r s*ngh *neuron'"
      ]
     },
     "execution_count": 25,
     "metadata": {},
     "output_type": "execute_result"
    }
   ],
   "source": [
    "s.replace(\"i\",\"*\")"
   ]
  },
  {
   "cell_type": "code",
   "execution_count": 26,
   "id": "d34a5cd1",
   "metadata": {},
   "outputs": [],
   "source": [
    "#string center-returns the centered string"
   ]
  },
  {
   "cell_type": "code",
   "execution_count": 27,
   "id": "1103f9b0",
   "metadata": {},
   "outputs": [],
   "source": [
    "s=\"sanvir\""
   ]
  },
  {
   "cell_type": "code",
   "execution_count": 28,
   "id": "443f8b5e",
   "metadata": {},
   "outputs": [
    {
     "data": {
      "text/plain": [
       "'**********************sanvir**********************'"
      ]
     },
     "execution_count": 28,
     "metadata": {},
     "output_type": "execute_result"
    }
   ],
   "source": [
    "s.center(50,\"*\")"
   ]
  },
  {
   "cell_type": "code",
   "execution_count": 29,
   "id": "fd41ad98",
   "metadata": {},
   "outputs": [],
   "source": [
    "# interpreter -  it translates one statement at a time into machine code\n",
    "#compiler  - it translates the entire program into the machine code "
   ]
  },
  {
   "cell_type": "code",
   "execution_count": 30,
   "id": "7cdd2407",
   "metadata": {},
   "outputs": [],
   "source": [
    "#python is an interpreted language"
   ]
  },
  {
   "cell_type": "code",
   "execution_count": 31,
   "id": "4ec2d908",
   "metadata": {},
   "outputs": [],
   "source": [
    "#pyhthon uses: A1 , DATA ANALYTICS , DATA VISUALISATION ,GAME DEVELOPMENT  , MACHINE LEARNING\n"
   ]
  },
  {
   "cell_type": "code",
   "execution_count": null,
   "id": "629b5857",
   "metadata": {},
   "outputs": [],
   "source": []
  }
 ],
 "metadata": {
  "kernelspec": {
   "display_name": "Python 3 (ipykernel)",
   "language": "python",
   "name": "python3"
  },
  "language_info": {
   "codemirror_mode": {
    "name": "ipython",
    "version": 3
   },
   "file_extension": ".py",
   "mimetype": "text/x-python",
   "name": "python",
   "nbconvert_exporter": "python",
   "pygments_lexer": "ipython3",
   "version": "3.9.7"
  }
 },
 "nbformat": 4,
 "nbformat_minor": 5
}
